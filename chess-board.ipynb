{
 "cells": [
  {
   "cell_type": "code",
   "execution_count": 1,
   "metadata": {},
   "outputs": [],
   "source": [
    "#Chess_board(1)\n",
    "\n",
    "\n",
    "import numpy as np\n",
    "\n",
    "%matplotlib inline\n",
    "import matplotlib.pyplot as plt\n",
    "\n",
    "\n",
    "class ChessBoard: \n",
    "    \n",
    "    def __init__(self):\n",
    "        self.board = np.ones([8,8,3])\n",
    "        for i in np.ndindex(8,8):\n",
    "            row = i[0]\n",
    "            col = i[1]\n",
    "            if row%2 != col%2:\n",
    "                self.board[row, col] = [0,0,0]\n",
    " \n",
    "    \n",
    "    def add_red(self, row, col):\n",
    "        self.red_row,self.red_col =row,col\n",
    "        self.board[row,col] = [1,0,0.2]\n",
    "        self.render()\n",
    "    \n",
    "    def add_blue(self, row,col):\n",
    "        self.blue_row,self.blue_col =row,col\n",
    "        self.board[row,col] = [0,1,1]\n",
    "        self.render()\n",
    "    \n",
    "    def render(self):\n",
    "        plt.imshow(self.board)\n",
    "    \n",
    "    def is_under_attack(self):\n",
    "        if (self.red_col == self.blue_col) or (self.red_row == self.blue_row):\n",
    "              return True\n",
    "        if abs(self.red_col - self.blue_col) == abs(self.red_row - self.blue_row):\n",
    "              return True\n",
    "        return False\n",
    "    \n",
    "\n",
    "\n",
    "\n",
    "    "
   ]
  },
  {
   "cell_type": "code",
   "execution_count": null,
   "metadata": {},
   "outputs": [
    {
     "data": {
      "text/plain": [
       "array([[[1., 1., 1.],\n",
       "        [0., 0., 0.],\n",
       "        [1., 1., 1.],\n",
       "        [0., 0., 0.],\n",
       "        [1., 1., 1.],\n",
       "        [0., 0., 0.],\n",
       "        [1., 1., 1.],\n",
       "        [0., 0., 0.]],\n",
       "\n",
       "       [[0., 0., 0.],\n",
       "        [1., 1., 1.],\n",
       "        [0., 0., 0.],\n",
       "        [1., 1., 1.],\n",
       "        [0., 0., 0.],\n",
       "        [1., 1., 1.],\n",
       "        [0., 0., 0.],\n",
       "        [1., 1., 1.]],\n",
       "\n",
       "       [[1., 1., 1.],\n",
       "        [0., 0., 0.],\n",
       "        [1., 1., 1.],\n",
       "        [0., 0., 0.],\n",
       "        [1., 1., 1.],\n",
       "        [0., 0., 0.],\n",
       "        [1., 1., 1.],\n",
       "        [0., 0., 0.]],\n",
       "\n",
       "       [[0., 0., 0.],\n",
       "        [1., 1., 1.],\n",
       "        [0., 0., 0.],\n",
       "        [1., 1., 1.],\n",
       "        [0., 0., 0.],\n",
       "        [1., 1., 1.],\n",
       "        [0., 0., 0.],\n",
       "        [1., 1., 1.]],\n",
       "\n",
       "       [[1., 1., 1.],\n",
       "        [0., 0., 0.],\n",
       "        [1., 1., 1.],\n",
       "        [0., 0., 0.],\n",
       "        [1., 1., 1.],\n",
       "        [0., 0., 0.],\n",
       "        [1., 1., 1.],\n",
       "        [0., 0., 0.]],\n",
       "\n",
       "       [[0., 0., 0.],\n",
       "        [1., 1., 1.],\n",
       "        [0., 0., 0.],\n",
       "        [1., 1., 1.],\n",
       "        [0., 0., 0.],\n",
       "        [1., 1., 1.],\n",
       "        [0., 0., 0.],\n",
       "        [1., 1., 1.]],\n",
       "\n",
       "       [[1., 1., 1.],\n",
       "        [0., 0., 0.],\n",
       "        [1., 1., 1.],\n",
       "        [0., 0., 0.],\n",
       "        [1., 1., 1.],\n",
       "        [0., 0., 0.],\n",
       "        [1., 1., 1.],\n",
       "        [0., 0., 0.]],\n",
       "\n",
       "       [[0., 0., 0.],\n",
       "        [1., 1., 1.],\n",
       "        [0., 0., 0.],\n",
       "        [1., 1., 1.],\n",
       "        [0., 0., 0.],\n",
       "        [1., 1., 1.],\n",
       "        [0., 0., 0.],\n",
       "        [1., 1., 1.]]])"
      ]
     },
     "execution_count": 2,
     "metadata": {},
     "output_type": "execute_result"
    }
   ],
   "source": [
    "chess_board = ChessBoard()\n",
    "chess_board.board"
   ]
  },
  {
   "cell_type": "code",
   "execution_count": 5,
   "metadata": {},
   "outputs": [
    {
     "data": {
      "image/png": "[encoded data removed]",
      "text/plain": [
       "<Figure size 432x288 with 1 Axes>"
      ]
     },
     "metadata": {
      "needs_background": "light"
     },
     "output_type": "display_data"
    }
   ],
   "source": [
    "chess_board.render()"
   ]
  },
  {
   "cell_type": "code",
   "execution_count": 10,
   "metadata": {},
   "outputs": [
    {
     "data": {
      "text/plain": [
       "True"
      ]
     },
     "execution_count": 10,
     "metadata": {},
     "output_type": "execute_result"
    },
    {
     "data": {
      "image/png": "[encoded data removed]",
      "text/plain": [
       "<Figure size 432x288 with 1 Axes>"
      ]
     },
     "metadata": {
      "needs_background": "light"
     },
     "output_type": "display_data"
    }
   ],
   "source": [
    "def test_row_attack():\n",
    "    chess_board  = ChessBoard ()\n",
    "    chess_board.render()\n",
    "    chess_board.add_red(1,3)\n",
    "    chess_board.add_blue(1,0)\n",
    "    assert chess_board.is_under_attack()==True\n",
    "    return chess_board.is_under_attack()\n",
    "test_row_attack()"
   ]
  },
  {
   "cell_type": "code",
   "execution_count": null,
   "metadata": {
    "jupyter": {
     "source_hidden": true
    },
    "tags": []
   },
   "outputs": [],
   "source": []
  },
  {
   "cell_type": "code",
   "execution_count": 7,
   "metadata": {},
   "outputs": [
    {
     "data": {
      "text/plain": [
       "False"
      ]
     },
     "execution_count": 7,
     "metadata": {},
     "output_type": "execute_result"
    },
    {
     "data": {
      "image/png": "[encoded data removed]",
      "text/plain": [
       "<Figure size 432x288 with 1 Axes>"
      ]
     },
     "metadata": {
      "needs_background": "light"
     },
     "output_type": "display_data"
    }
   ],
   "source": [
    "def test_not_under_attack():\n",
    "    chess_board  = ChessBoard ()\n",
    "    chess_board.render()\n",
    "    chess_board.add_red(3,7)\n",
    "    chess_board.add_blue(2,4)\n",
    "    assert chess_board.is_under_attack()==False\n",
    "    return chess_board.is_under_attack()\n",
    "test_not_under_attack()"
   ]
  },
  {
   "cell_type": "code",
   "execution_count": 8,
   "metadata": {},
   "outputs": [
    {
     "data": {
      "text/plain": [
       "True"
      ]
     },
     "execution_count": 8,
     "metadata": {},
     "output_type": "execute_result"
    },
    {
     "data": {
      "image/png": "[encoded data removed]",
      "text/plain": [
       "<Figure size 432x288 with 1 Axes>"
      ]
     },
     "metadata": {
      "needs_background": "light"
     },
     "output_type": "display_data"
    }
   ],
   "source": [
    "def test_column_attack():\n",
    "    chess_board  = ChessBoard ()\n",
    "    chess_board.render()\n",
    "    chess_board.add_red(0,6)\n",
    "    chess_board.add_blue(3,6)\n",
    "    assert chess_board.is_under_attack()==True\n",
    "    return chess_board.is_under_attack()\n",
    "test_column_attack()"
   ]
  },
  {
   "cell_type": "code",
   "execution_count": 11,
   "metadata": {},
   "outputs": [
    {
     "data": {
      "text/plain": [
       "True"
      ]
     },
     "execution_count": 11,
     "metadata": {},
     "output_type": "execute_result"
    },
    {
     "data": {
      "image/png": "[encoded data removed]",
      "text/plain": [
       "<Figure size 432x288 with 1 Axes>"
      ]
     },
     "metadata": {
      "needs_background": "light"
     },
     "output_type": "display_data"
    }
   ],
   "source": [
    "def test_diagonal_attack():\n",
    "    chess_board  = ChessBoard ()\n",
    "    chess_board.render()\n",
    "    chess_board.add_red(1,1)\n",
    "    chess_board.add_blue(6,6)\n",
    "    assert chess_board.is_under_attack()==True\n",
    "    return chess_board.is_under_attack()\n",
    "test_diagonal_attack()"
   ]
  },
  {
   "cell_type": "code",
   "execution_count": null,
   "metadata": {},
   "outputs": [],
   "source": []
  },
  {
   "cell_type": "code",
   "execution_count": null,
   "metadata": {},
   "outputs": [],
   "source": []
  },
  {
   "cell_type": "code",
   "execution_count": null,
   "metadata": {},
   "outputs": [],
   "source": []
  },
  {
   "cell_type": "code",
   "execution_count": null,
   "metadata": {},
   "outputs": [],
   "source": []
  },
  {
   "cell_type": "code",
   "execution_count": null,
   "metadata": {},
   "outputs": [],
   "source": []
  },
  {
   "cell_type": "code",
   "execution_count": null,
   "metadata": {},
   "outputs": [],
   "source": []
  },
  {
   "cell_type": "code",
   "execution_count": null,
   "metadata": {},
   "outputs": [],
   "source": []
  },
  {
   "cell_type": "code",
   "execution_count": null,
   "metadata": {},
   "outputs": [],
   "source": []
  },
  {
   "cell_type": "code",
   "execution_count": null,
   "metadata": {},
   "outputs": [],
   "source": []
  },
  {
   "cell_type": "code",
   "execution_count": null,
   "metadata": {},
   "outputs": [],
   "source": []
  },
  {
   "cell_type": "code",
   "execution_count": null,
   "metadata": {},
   "outputs": [],
   "source": []
  },
  {
   "cell_type": "code",
   "execution_count": null,
   "metadata": {},
   "outputs": [],
   "source": []
  },
  {
   "cell_type": "code",
   "execution_count": null,
   "metadata": {},
   "outputs": [],
   "source": []
  },
  {
   "cell_type": "code",
   "execution_count": null,
   "metadata": {},
   "outputs": [],
   "source": []
  },
  {
   "cell_type": "code",
   "execution_count": null,
   "metadata": {},
   "outputs": [],
   "source": []
  },
  {
   "cell_type": "code",
   "execution_count": null,
   "metadata": {},
   "outputs": [],
   "source": []
  },
  {
   "cell_type": "code",
   "execution_count": null,
   "metadata": {},
   "outputs": [],
   "source": []
  },
  {
   "cell_type": "code",
   "execution_count": null,
   "metadata": {},
   "outputs": [],
   "source": []
  },
  {
   "cell_type": "code",
   "execution_count": null,
   "metadata": {},
   "outputs": [],
   "source": []
  },
  {
   "cell_type": "code",
   "execution_count": null,
   "metadata": {},
   "outputs": [],
   "source": []
  },
  {
   "cell_type": "code",
   "execution_count": null,
   "metadata": {},
   "outputs": [],
   "source": []
  },
  {
   "cell_type": "code",
   "execution_count": null,
   "metadata": {},
   "outputs": [],
   "source": []
  },
  {
   "cell_type": "code",
   "execution_count": null,
   "metadata": {},
   "outputs": [],
   "source": []
  },
  {
   "cell_type": "code",
   "execution_count": null,
   "metadata": {},
   "outputs": [],
   "source": []
  }
 ],
 "metadata": {
  "interpreter": {
   "hash": "71750bb999dc112a5762eff253e0962a1885a7e6e4049c17d7b7d6099054b4b5"
  },
  "kernelspec": {
   "display_name": "Python 3 (ipykernel)",
   "language": "python",
   "name": "python3"
  },
  "language_info": {
   "codemirror_mode": {
    "name": "ipython",
    "version": 3
   },
   "file_extension": ".py",
   "mimetype": "text/x-python",
   "name": "python",
   "nbconvert_exporter": "python",
   "pygments_lexer": "ipython3",
   "version": "3.9.5"
  }
 },
 "nbformat": 4,
 "nbformat_minor": 4
}
